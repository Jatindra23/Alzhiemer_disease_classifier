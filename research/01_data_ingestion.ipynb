{
 "cells": [
  {
   "cell_type": "code",
   "execution_count": 14,
   "metadata": {},
   "outputs": [],
   "source": [
    "import os\n",
    "from pathlib import Path\n",
    "import shutil"
   ]
  },
  {
   "cell_type": "code",
   "execution_count": 15,
   "metadata": {},
   "outputs": [
    {
     "data": {
      "text/plain": [
       "'c:\\\\Users\\\\jatin\\\\Desktop\\\\internship project\\\\Alzimer_disease_detection'"
      ]
     },
     "execution_count": 15,
     "metadata": {},
     "output_type": "execute_result"
    }
   ],
   "source": [
    "%pwd"
   ]
  },
  {
   "cell_type": "code",
   "execution_count": 3,
   "metadata": {},
   "outputs": [],
   "source": [
    "os.chdir(\"../\")"
   ]
  },
  {
   "cell_type": "code",
   "execution_count": 4,
   "metadata": {},
   "outputs": [
    {
     "data": {
      "text/plain": [
       "'c:\\\\Users\\\\jatin\\\\Desktop\\\\internship project\\\\Alzimer_disease_detection'"
      ]
     },
     "execution_count": 4,
     "metadata": {},
     "output_type": "execute_result"
    }
   ],
   "source": [
    "%pwd\n"
   ]
  },
  {
   "cell_type": "code",
   "execution_count": 5,
   "metadata": {},
   "outputs": [],
   "source": [
    "from dataclasses import dataclass\n",
    "from pathlib import Path\n",
    "\n",
    "@dataclass(frozen=True)\n",
    "class DataIngestionConfig:\n",
    "    root_dir: Path\n",
    "    data_path: Path\n",
    "    \n",
    "    \n",
    "\n"
   ]
  },
  {
   "cell_type": "code",
   "execution_count": 6,
   "metadata": {},
   "outputs": [],
   "source": [
    "from src.Alzimer_disease_classifier.constants import *\n",
    "from src.Alzimer_disease_classifier.utils.common import read_yaml, create_directories"
   ]
  },
  {
   "cell_type": "code",
   "execution_count": 7,
   "metadata": {},
   "outputs": [],
   "source": [
    "class ConfigurationManager:\n",
    "    def __init__(\n",
    "        self,\n",
    "        config_filepath = CONFIG_FILE_PATH,\n",
    "        params_filepath = PARAMS_FILE_PATH):\n",
    "\n",
    "\n",
    "        self.config = read_yaml(config_filepath)\n",
    "        self.params = read_yaml(params_filepath)\n",
    "        \n",
    "        create_directories([self.config.artifact_root])\n",
    "        \n",
    "    def get_data_ingestion_config(self) -> DataIngestionConfig:\n",
    "        config = self.config.data_ingestion\n",
    "\n",
    "        create_directories([config.root_dir])\n",
    "\n",
    "        data_ingestion_config = DataIngestionConfig(\n",
    "            root_dir=config.root_dir,\n",
    "            data_path=config.data_path, \n",
    "        )\n",
    "\n",
    "        return data_ingestion_config\n",
    "        \n",
    "\n",
    "\n"
   ]
  },
  {
   "cell_type": "code",
   "execution_count": 8,
   "metadata": {},
   "outputs": [],
   "source": [
    "import os \n",
    "from src.Alzimer_disease_classifier.logger import logging\n",
    "from src.Alzimer_disease_classifier.utils.common import get_size\n",
    "import sys"
   ]
  },
  {
   "cell_type": "code",
   "execution_count": 9,
   "metadata": {},
   "outputs": [],
   "source": [
    "from src.Alzimer_disease_classifier.exception import RenelException"
   ]
  },
  {
   "cell_type": "code",
   "execution_count": 45,
   "metadata": {},
   "outputs": [],
   "source": [
    "import os\n",
    "import sys\n",
    "import shutil\n",
    "from pathlib import Path\n",
    "from src.Alzimer_disease_classifier.logger import logging\n",
    "from src.Alzimer_disease_classifier.exception import RenelException\n",
    "\n",
    "class DataIngestion:\n",
    "    def __init__(self, config):\n",
    "        self.config = config\n",
    "\n",
    "    def get_data_from_folder(self, data_path: Path):\n",
    "        \"\"\"\n",
    "        Copies the entire directory structure (including subfolders like `mild` and `none`)\n",
    "        from `data_path` to `config.root_dir`, preserving folder hierarchy.\n",
    "        \"\"\"\n",
    "        logging.info(f\"Copying data from {data_path} to {self.config.root_dir}\")\n",
    "        dest_dir = Path(self.config.root_dir)\n",
    "\n",
    "        try:\n",
    "            # Ensure source directory exists\n",
    "            if not data_path.exists():\n",
    "                raise RenelException(f\"Source path {data_path} does not exist.\", sys)\n",
    "            \n",
    "            # Create root destination directory\n",
    "            dest_dir.mkdir(parents=True, exist_ok=True)\n",
    "\n",
    "            # Walk through the source directory\n",
    "            for root, dirs, files in os.walk(data_path):\n",
    "                # Get relative path from source to current directory\n",
    "                relative_path = os.path.relpath(root, data_path)\n",
    "                logging.info(f\"Relative path: {relative_path}\")\n",
    "                dest_subdir = dest_dir / relative_path\n",
    "                logging.info(f\"Destination subdirectory: {dest_subdir}\")\n",
    "\n",
    "                # Create corresponding subdirectory in destination\n",
    "                dest_subdir.mkdir(parents=True, exist_ok=True)\n",
    "                logging.info(f\"Created directory: {dest_subdir}\")\n",
    "\n",
    "                # Copy files to the destination subdirectory\n",
    "                for file in files:\n",
    "                    src_file = Path(root) / file\n",
    "                    dest_file = dest_subdir / file\n",
    "\n",
    "                    if not dest_file.exists():\n",
    "                        shutil.copy(src_file, dest_subdir)\n",
    "                        # logging.info(f\"Copied: {src_file} → {dest_file}\")\n",
    "                    else:\n",
    "                        logging.warning(f\"Skipped (already exists): {dest_file}\")\n",
    "\n",
    "            logging.info(f\"Data copied successfully to {dest_dir}\")\n",
    "            return str(dest_dir)\n",
    "        \n",
    "        except Exception as e:\n",
    "            logging.error(f\"Error: {e}\")\n",
    "            raise RenelException(e, sys)"
   ]
  },
  {
   "cell_type": "code",
   "execution_count": 44,
   "metadata": {},
   "outputs": [
    {
     "name": "stdout",
     "output_type": "stream",
     "text": [
      ".\n",
      "mild\n",
      "none\n"
     ]
    }
   ],
   "source": [
    "for root, dirs, files in os.walk('alzimer_img'):\n",
    "    rel = os.path.relpath(root,'alzimer_img')\n",
    "    print(rel)"
   ]
  },
  {
   "cell_type": "code",
   "execution_count": null,
   "metadata": {},
   "outputs": [
    {
     "ename": "TypeError",
     "evalue": "unsupported operand type(s) for /: 'str' and 'str'",
     "output_type": "error",
     "traceback": [
      "\u001b[1;31m---------------------------------------------------------------------------\u001b[0m",
      "\u001b[1;31mTypeError\u001b[0m                                 Traceback (most recent call last)",
      "Cell \u001b[1;32mIn[48], line 3\u001b[0m\n\u001b[0;32m      1\u001b[0m a\u001b[38;5;241m=\u001b[39m \u001b[38;5;124m'\u001b[39m\u001b[38;5;124mfb\u001b[39m\u001b[38;5;124m'\u001b[39m\n\u001b[0;32m      2\u001b[0m b \u001b[38;5;241m=\u001b[39m \u001b[38;5;124m'\u001b[39m\u001b[38;5;124mfv\u001b[39m\u001b[38;5;124m'\u001b[39m\n\u001b[1;32m----> 3\u001b[0m \u001b[43ma\u001b[49m\u001b[43m \u001b[49m\u001b[38;5;241;43m/\u001b[39;49m\u001b[43m \u001b[49m\u001b[43mb\u001b[49m\n",
      "\u001b[1;31mTypeError\u001b[0m: unsupported operand type(s) for /: 'str' and 'str'"
     ]
    }
   ],
   "source": []
  },
  {
   "cell_type": "code",
   "execution_count": 19,
   "metadata": {},
   "outputs": [],
   "source": [
    "from src.Alzimer_disease_classifier.exception import RenelException"
   ]
  },
  {
   "cell_type": "code",
   "execution_count": 46,
   "metadata": {},
   "outputs": [],
   "source": [
    "from pathlib import Path\n",
    "\n",
    "try:\n",
    "    config = ConfigurationManager()\n",
    "    data_ingestion_config = config.get_data_ingestion_config()\n",
    "    data_ingestion = DataIngestion(config=data_ingestion_config)\n",
    "    data_path = Path(data_ingestion_config.data_path)\n",
    "    data_ingestion.get_data_from_folder(data_path=data_path)\n",
    "\n",
    "except FileNotFoundError as e:\n",
    "    print(f\"File not found: {e.filename}\")\n",
    "    raise RenelException(e, sys)\n",
    "except Exception as e:\n",
    "    raise RenelException(e, sys)"
   ]
  },
  {
   "cell_type": "code",
   "execution_count": null,
   "metadata": {},
   "outputs": [],
   "source": []
  },
  {
   "cell_type": "code",
   "execution_count": null,
   "metadata": {},
   "outputs": [],
   "source": []
  },
  {
   "cell_type": "code",
   "execution_count": null,
   "metadata": {},
   "outputs": [],
   "source": []
  }
 ],
 "metadata": {
  "kernelspec": {
   "display_name": "Python 3",
   "language": "python",
   "name": "python3"
  },
  "language_info": {
   "codemirror_mode": {
    "name": "ipython",
    "version": 3
   },
   "file_extension": ".py",
   "mimetype": "text/x-python",
   "name": "python",
   "nbconvert_exporter": "python",
   "pygments_lexer": "ipython3",
   "version": "3.8.20"
  }
 },
 "nbformat": 4,
 "nbformat_minor": 2
}
