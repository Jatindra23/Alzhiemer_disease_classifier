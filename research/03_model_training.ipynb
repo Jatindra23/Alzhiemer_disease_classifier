{
 "cells": [
  {
   "cell_type": "code",
   "execution_count": 1,
   "metadata": {},
   "outputs": [],
   "source": [
    "import os"
   ]
  },
  {
   "cell_type": "code",
   "execution_count": 2,
   "metadata": {},
   "outputs": [
    {
     "data": {
      "text/plain": [
       "'c:\\\\Users\\\\jatin\\\\Desktop\\\\internship_project\\\\Alzimer_disease_detection\\\\research'"
      ]
     },
     "execution_count": 2,
     "metadata": {},
     "output_type": "execute_result"
    }
   ],
   "source": [
    "%pwd"
   ]
  },
  {
   "cell_type": "code",
   "execution_count": 3,
   "metadata": {},
   "outputs": [],
   "source": [
    "os.chdir(\"../\")"
   ]
  },
  {
   "cell_type": "code",
   "execution_count": 4,
   "metadata": {},
   "outputs": [
    {
     "data": {
      "text/plain": [
       "'c:\\\\Users\\\\jatin\\\\Desktop\\\\internship_project\\\\Alzimer_disease_detection'"
      ]
     },
     "execution_count": 4,
     "metadata": {},
     "output_type": "execute_result"
    }
   ],
   "source": [
    "%pwd"
   ]
  },
  {
   "cell_type": "code",
   "execution_count": 5,
   "metadata": {},
   "outputs": [],
   "source": [
    "from dataclasses import dataclass\n",
    "from pathlib import Path\n",
    "\n",
    "\n",
    "@dataclass(frozen=True)\n",
    "class TrainingConfig:\n",
    "    root_dir: Path\n",
    "    trained_model_path: Path\n",
    "    updated_base_model_path: Path\n",
    "    training_data: Path\n",
    "    params_epochs: int\n",
    "    params_batch_size: int\n",
    "    params_is_augmentation: bool\n",
    "    params_image_size: list"
   ]
  },
  {
   "cell_type": "code",
   "execution_count": 6,
   "metadata": {},
   "outputs": [],
   "source": [
    "from Alzimer_disease_classifier.constants import *\n",
    "from Alzimer_disease_classifier.utils.common import read_yaml, create_directories\n",
    "from Alzimer_disease_classifier.entity.config_entity import PrepareBaseModelConfig\n",
    "import tensorflow as tf\n",
    "\n"
   ]
  },
  {
   "cell_type": "code",
   "execution_count": 7,
   "metadata": {},
   "outputs": [],
   "source": [
    "class ConfigurationManager:\n",
    "    def __init__(\n",
    "        self,\n",
    "        config_filepath = CONFIG_FILE_PATH,\n",
    "        params_filepath = PARAMS_FILE_PATH):\n",
    "\n",
    "        self.config = read_yaml(config_filepath)\n",
    "        self.params = read_yaml(params_filepath)\n",
    "\n",
    "        create_directories([self.config.artifact_root])\n",
    "\n",
    "    def get_training_config(self)->TrainingConfig:\n",
    "        training = self.config.training\n",
    "        prepare_base_model = self.config.prepare_base_model\n",
    "        params = self.params\n",
    "        training_data = Path(self.config.data_ingestion.root_dir)\n",
    "        create_directories([\n",
    "            Path(training.root_dir)\n",
    "        ])\n",
    "\n",
    "        training_config = TrainingConfig(\n",
    "            root_dir=Path(training.root_dir),\n",
    "            trained_model_path=Path(training.trained_model_path),\n",
    "            updated_base_model_path=Path(prepare_base_model.updated_base_model_path),\n",
    "            training_data=Path(training_data),\n",
    "            params_epochs=params.EPOCHS,\n",
    "            params_batch_size=params.BATCH_SIZE,\n",
    "            params_is_augmentation=params.AUGMENTATION,\n",
    "            params_image_size=params.IMAGE_SIZE\n",
    "        )\n",
    "\n",
    "        return training_config"
   ]
  },
  {
   "cell_type": "code",
   "execution_count": 8,
   "metadata": {},
   "outputs": [],
   "source": [
    "from zipfile import ZipFile\n",
    "import time"
   ]
  },
  {
   "cell_type": "code",
   "execution_count": 9,
   "metadata": {},
   "outputs": [],
   "source": [
    "import os \n",
    "import urllib.request as request\n",
    "import tensorflow as tf\n",
    "import time"
   ]
  },
  {
   "cell_type": "code",
   "execution_count": 10,
   "metadata": {},
   "outputs": [],
   "source": [
    "class Training:\n",
    "   def __init__(self, config: TrainingConfig):\n",
    "        self.config = config\n",
    "\n",
    "   def get_base_model(self):\n",
    "        self.model = tf.keras.models.load_model(\n",
    "            self.config.updated_base_model_path\n",
    "        )\n",
    "\n",
    "   def train_valid_generator(self):\n",
    "\n",
    "        datagenerator_kwargs = dict(\n",
    "            rescale = 1./255,\n",
    "            validation_split=0.20\n",
    "        )\n",
    "\n",
    "        dataflow_kwargs = dict(\n",
    "            target_size=self.config.params_image_size[:-1],\n",
    "            batch_size=self.config.params_batch_size,\n",
    "            interpolation='nearest',\n",
    "            \n",
    "        )\n",
    "\n",
    "        validation_datagenerator = tf.keras.preprocessing.image.ImageDataGenerator(\n",
    "           **datagenerator_kwargs\n",
    "        )\n",
    "\n",
    "        self.valid_generator = validation_datagenerator.flow_from_directory(\n",
    "           directory = self.config.training_data,\n",
    "           subset = \"validation\",\n",
    "           shuffle = False,\n",
    "           **dataflow_kwargs\n",
    "        )\n",
    "        if self.config.params_is_augmentation:\n",
    "           train_datagenerator = tf.keras.preprocessing.image.ImageDataGenerator(\n",
    "              rotation_range = 40,\n",
    "              horizontal_flip= True,\n",
    "              width_shift_range = 0.2,\n",
    "              height_shift_range = 0.2,\n",
    "              shear_range = 0.2,\n",
    "              zoom_range = 0.2,\n",
    "              **datagenerator_kwargs\n",
    "           )\n",
    "        else:\n",
    "           train_datagenerator = validation_datagenerator\n",
    "\n",
    "        self.train_generator = train_datagenerator.flow_from_directory(\n",
    "           directory = self.config.training_data,\n",
    "           subset = \"training\",\n",
    "           shuffle = True,\n",
    "           **dataflow_kwargs\n",
    "        )\n",
    "\n",
    "   @staticmethod\n",
    "   def save_model(path:Path, model: tf.keras.Model):\n",
    "       model.save(path)\n",
    "\n",
    "   def train(self):\n",
    "      self.steps_per_epoch = self.train_generator.samples // self.train_generator.batch_size\n",
    "      self.validation_steps = self.valid_generator.samples // self.valid_generator.batch_size\n",
    "\n",
    "      self.model.fit(\n",
    "         self.train_generator,\n",
    "         epochs = self.config.params_epochs,\n",
    "         steps_per_epoch = self.steps_per_epoch,\n",
    "         validation_steps = self.validation_steps,\n",
    "         validation_data = self.valid_generator,\n",
    "\n",
    "      )\n",
    "      self.save_model(\n",
    "         path = self.config.trained_model_path,\n",
    "         model = self.model\n",
    "      )"
   ]
  },
  {
   "cell_type": "code",
   "execution_count": 11,
   "metadata": {},
   "outputs": [
    {
     "name": "stdout",
     "output_type": "stream",
     "text": [
      "Found 43 images belonging to 2 classes.\n",
      "Found 176 images belonging to 2 classes.\n",
      "4/4 [==============================] - 29s 7s/step - loss: 15.2353 - accuracy: 0.5221 - val_loss: 29.2191 - val_accuracy: 0.5500\n"
     ]
    },
    {
     "name": "stderr",
     "output_type": "stream",
     "text": [
      "c:\\Users\\jatin\\Desktop\\internship_project\\Alzimer_disease_detection\\alz_venv\\lib\\site-packages\\keras\\src\\engine\\training.py:3103: UserWarning: You are saving your model as an HDF5 file via `model.save()`. This file format is considered legacy. We recommend using instead the native Keras format, e.g. `model.save('my_model.keras')`.\n",
      "  saving_api.save_model(\n"
     ]
    }
   ],
   "source": [
    "try:\n",
    "    config = ConfigurationManager()\n",
    "    training_config = config.get_training_config()\n",
    "    training = Training(config=training_config)\n",
    "    training.get_base_model()\n",
    "    training.train_valid_generator()\n",
    "    training.train()\n",
    "\n",
    "except Exception as e:\n",
    "    raise e"
   ]
  },
  {
   "cell_type": "code",
   "execution_count": 52,
   "metadata": {},
   "outputs": [
    {
     "name": "stdout",
     "output_type": "stream",
     "text": [
      "1/1 [==============================] - 0s 281ms/step\n",
      "Alzheimer's Disease\n"
     ]
    }
   ],
   "source": [
    "from tensorflow.keras.preprocessing.image import load_img, img_to_array\n",
    "import numpy as np\n",
    "import logging\n",
    "from tensorflow.keras.models import load_model\n",
    "\n",
    "model_path = os.path.join(\"artifacts\", \"training\", \"model.keras\")\n",
    "model = load_model(model_path)\n",
    "  # Assuming the model is already trained and available\n",
    "file_name = r'C:\\Users\\jatin\\Desktop\\internship_project\\Alzimer_disease_detection\\artifacts\\data_ingestion\\mild\\mild_35.jpg'\n",
    "test_image = load_img(file_name, target_size=(224, 224))\n",
    "test_image = img_to_array(test_image)\n",
    "test_image = np.expand_dims(test_image, axis=0)\n",
    "test_image = test_image / 255.0  # Normalize if required\n",
    "logging.debug(\"Image loaded and preprocessed successfully.\")\n",
    "\n",
    "# Make prediction\n",
    "prediction_prob = model.predict(test_image)\n",
    "result = np.argmax(prediction_prob, axis=1)\n",
    "logging.info(f\"Raw prediction output: {prediction_prob}\")\n",
    "logging.info(f\"Argmax result: {result}\")\n",
    "\n",
    "# Decode prediction\n",
    "if result[0] == 1:\n",
    "    print(\"no Alzheimer's Disease\")\n",
    "else:\n",
    "    print(\"Alzheimer's Disease\")"
   ]
  },
  {
   "cell_type": "code",
   "execution_count": null,
   "metadata": {},
   "outputs": [],
   "source": []
  },
  {
   "cell_type": "code",
   "execution_count": null,
   "metadata": {},
   "outputs": [],
   "source": []
  },
  {
   "cell_type": "code",
   "execution_count": null,
   "metadata": {},
   "outputs": [],
   "source": []
  },
  {
   "cell_type": "code",
   "execution_count": null,
   "metadata": {},
   "outputs": [],
   "source": []
  },
  {
   "cell_type": "code",
   "execution_count": null,
   "metadata": {},
   "outputs": [],
   "source": []
  },
  {
   "cell_type": "code",
   "execution_count": 36,
   "metadata": {},
   "outputs": [
    {
     "name": "stdout",
     "output_type": "stream",
     "text": [
      "1/1 [==============================] - 0s 289ms/step\n",
      "Prediction output: [[1.00000000e+00 1.06665896e-19]]\n",
      "First conv layer weights mean: -0.0024\n",
      "Prediction confidence: 73.11%\n"
     ]
    }
   ],
   "source": [
    "def verify_model_trained(model_path, test_image):\n",
    "    model = tf.keras.models.load_model(model_path)\n",
    "    \n",
    "    # Check 1: Basic prediction\n",
    "    pred = model.predict(test_image)\n",
    "    print(f\"Prediction output: {pred}\")\n",
    "    \n",
    "    # Check 2: Weight means\n",
    "    first_conv_weights = model.layers[1].get_weights()[0]\n",
    "    print(f\"First conv layer weights mean: {np.mean(first_conv_weights):.4f}\")\n",
    "    \n",
    "    # Check 3: Output confidence\n",
    "    if pred.shape[1] > 1:  # Multiclass\n",
    "        confidence = tf.reduce_max(tf.nn.softmax(pred))\n",
    "    else:  # Binary\n",
    "        confidence = tf.sigmoid(pred)[0]\n",
    "    print(f\"Prediction confidence: {confidence:.2%}\")\n",
    "\n",
    "# Usage\n",
    "test_sample = tf.expand_dims(test_image[0], 0)\n",
    "verify_model_trained(model_path, test_sample)"
   ]
  },
  {
   "cell_type": "code",
   "execution_count": 43,
   "metadata": {},
   "outputs": [
    {
     "name": "stdout",
     "output_type": "stream",
     "text": [
      "Model: \"model\"\n",
      "_________________________________________________________________\n",
      " Layer (type)                Output Shape              Param #   \n",
      "=================================================================\n",
      " input_1 (InputLayer)        [(None, 224, 224, 3)]     0         \n",
      "                                                                 \n",
      " block1_conv1 (Conv2D)       (None, 224, 224, 64)      1792      \n",
      "                                                                 \n",
      " block1_conv2 (Conv2D)       (None, 224, 224, 64)      36928     \n",
      "                                                                 \n",
      " block1_pool (MaxPooling2D)  (None, 112, 112, 64)      0         \n",
      "                                                                 \n",
      " block2_conv1 (Conv2D)       (None, 112, 112, 128)     73856     \n",
      "                                                                 \n",
      " block2_conv2 (Conv2D)       (None, 112, 112, 128)     147584    \n",
      "                                                                 \n",
      " block2_pool (MaxPooling2D)  (None, 56, 56, 128)       0         \n",
      "                                                                 \n",
      " block3_conv1 (Conv2D)       (None, 56, 56, 256)       295168    \n",
      "                                                                 \n",
      " block3_conv2 (Conv2D)       (None, 56, 56, 256)       590080    \n",
      "                                                                 \n",
      " block3_conv3 (Conv2D)       (None, 56, 56, 256)       590080    \n",
      "                                                                 \n",
      " block3_pool (MaxPooling2D)  (None, 28, 28, 256)       0         \n",
      "                                                                 \n",
      " block4_conv1 (Conv2D)       (None, 28, 28, 512)       1180160   \n",
      "                                                                 \n",
      " block4_conv2 (Conv2D)       (None, 28, 28, 512)       2359808   \n",
      "                                                                 \n",
      " block4_conv3 (Conv2D)       (None, 28, 28, 512)       2359808   \n",
      "                                                                 \n",
      " block4_pool (MaxPooling2D)  (None, 14, 14, 512)       0         \n",
      "                                                                 \n",
      " block5_conv1 (Conv2D)       (None, 14, 14, 512)       2359808   \n",
      "                                                                 \n",
      " block5_conv2 (Conv2D)       (None, 14, 14, 512)       2359808   \n",
      "                                                                 \n",
      " block5_conv3 (Conv2D)       (None, 14, 14, 512)       2359808   \n",
      "                                                                 \n",
      " block5_pool (MaxPooling2D)  (None, 7, 7, 512)         0         \n",
      "                                                                 \n",
      " flatten (Flatten)           (None, 25088)             0         \n",
      "                                                                 \n",
      " dense (Dense)               (None, 2)                 50178     \n",
      "                                                                 \n",
      "=================================================================\n",
      "Total params: 14764866 (56.32 MB)\n",
      "Trainable params: 50178 (196.01 KB)\n",
      "Non-trainable params: 14714688 (56.13 MB)\n",
      "_________________________________________________________________\n"
     ]
    }
   ],
   "source": [
    "model.summary()\n"
   ]
  },
  {
   "cell_type": "code",
   "execution_count": null,
   "metadata": {},
   "outputs": [],
   "source": []
  }
 ],
 "metadata": {
  "kernelspec": {
   "display_name": "Python 3",
   "language": "python",
   "name": "python3"
  },
  "language_info": {
   "codemirror_mode": {
    "name": "ipython",
    "version": 3
   },
   "file_extension": ".py",
   "mimetype": "text/x-python",
   "name": "python",
   "nbconvert_exporter": "python",
   "pygments_lexer": "ipython3",
   "version": "3.10.16"
  }
 },
 "nbformat": 4,
 "nbformat_minor": 2
}
